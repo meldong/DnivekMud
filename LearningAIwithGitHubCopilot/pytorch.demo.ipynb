{
 "cells": [
  {
   "attachments": {},
   "cell_type": "markdown",
   "metadata": {},
   "source": [
    "## Computer vision and PyTorch with GitHub Copilot\n",
    "#### https://learn.microsoft.com/en-us/shows/learning-ai-with-github-copilot/computer-vision-and-pytorch-with-github-copilot"
   ]
  }
 ],
 "metadata": {
  "language_info": {
   "name": "python"
  },
  "orig_nbformat": 4
 },
 "nbformat": 4,
 "nbformat_minor": 2
}
