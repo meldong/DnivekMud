{
 "cells": [
  {
   "attachments": {},
   "cell_type": "markdown",
   "metadata": {},
   "source": [
    "# This is my first python notebook"
   ]
  },
  {
   "cell_type": "code",
   "execution_count": 3,
   "metadata": {},
   "outputs": [
    {
     "name": "stdout",
     "output_type": "stream",
     "text": [
      "This is my first python notebook\n"
     ]
    }
   ],
   "source": [
    "print('This is my first python notebook')"
   ]
  },
  {
   "attachments": {},
   "cell_type": "markdown",
   "metadata": {},
   "source": [
    "#### https://learn.microsoft.com/en-us/shows/learning-ai-with-github-copilot/\n",
    "#### https://github.com/gcordido/Learning-AI-with-Copilot/blob/main/requirements.txt\n",
    "\n",
    "#### ipykernel==6.15.2\n",
    "#### pandas==1.4.4\n",
    "#### matplotlib==3.5.3\n",
    "#### matplotlib-inline==0.1.6\n",
    "#### torchvision==0.10.0\n",
    "#### torch==1.9.0\n",
    "#### numpy==1.21.2\n",
    "#### seaborn==0.11.2\n",
    "#### scikit-learn==1.0.1"
   ]
  }
 ],
 "metadata": {
  "kernelspec": {
   "display_name": ".venv",
   "language": "python",
   "name": "python3"
  },
  "language_info": {
   "codemirror_mode": {
    "name": "ipython",
    "version": 3
   },
   "file_extension": ".py",
   "mimetype": "text/x-python",
   "name": "python",
   "nbconvert_exporter": "python",
   "pygments_lexer": "ipython3",
   "version": "3.10.10"
  },
  "orig_nbformat": 4
 },
 "nbformat": 4,
 "nbformat_minor": 2
}
